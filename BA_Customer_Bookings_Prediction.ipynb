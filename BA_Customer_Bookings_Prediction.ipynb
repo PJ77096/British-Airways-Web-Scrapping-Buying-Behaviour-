{
 "cells": [
  {
   "cell_type": "code",
   "execution_count": 1,
   "id": "03b64dc1",
   "metadata": {},
   "outputs": [],
   "source": [
    "import pandas as pd\n",
    "import numpy as np\n",
    "from bs4 import BeautifulSoup as bs\n",
    "import requests\n",
    "import matplotlib.pyplot as plt\n",
    "%matplotlib inline\n",
    "import warnings\n",
    "warnings.filterwarnings('ignore')\n",
    "from wordcloud import WordCloud\n",
    "from sklearn.feature_extraction.text import TfidfVectorizer\n",
    "from sklearn.model_selection import train_test_split\n",
    "from sklearn.linear_model import LogisticRegression\n",
    "from sklearn.metrics import accuracy_score\n",
    "import seaborn as sns\n",
    "from sklearn.tree import DecisionTreeClassifier\n",
    "from sklearn.neighbors import KNeighborsClassifier\n"
   ]
  },
  {
   "cell_type": "code",
   "execution_count": 2,
   "id": "eabde1bd",
   "metadata": {},
   "outputs": [
    {
     "data": {
      "text/html": [
       "<div>\n",
       "<style scoped>\n",
       "    .dataframe tbody tr th:only-of-type {\n",
       "        vertical-align: middle;\n",
       "    }\n",
       "\n",
       "    .dataframe tbody tr th {\n",
       "        vertical-align: top;\n",
       "    }\n",
       "\n",
       "    .dataframe thead th {\n",
       "        text-align: right;\n",
       "    }\n",
       "</style>\n",
       "<table border=\"1\" class=\"dataframe\">\n",
       "  <thead>\n",
       "    <tr style=\"text-align: right;\">\n",
       "      <th></th>\n",
       "      <th>num_passengers</th>\n",
       "      <th>sales_channel</th>\n",
       "      <th>trip_type</th>\n",
       "      <th>purchase_lead</th>\n",
       "      <th>length_of_stay</th>\n",
       "      <th>flight_hour</th>\n",
       "      <th>flight_day</th>\n",
       "      <th>wants_extra_baggage</th>\n",
       "      <th>wants_preferred_seat</th>\n",
       "      <th>wants_in_flight_meals</th>\n",
       "      <th>flight_duration</th>\n",
       "      <th>booking_complete</th>\n",
       "    </tr>\n",
       "  </thead>\n",
       "  <tbody>\n",
       "    <tr>\n",
       "      <th>0</th>\n",
       "      <td>2</td>\n",
       "      <td>Internet</td>\n",
       "      <td>RoundTrip</td>\n",
       "      <td>262</td>\n",
       "      <td>19</td>\n",
       "      <td>7</td>\n",
       "      <td>Sat</td>\n",
       "      <td>1</td>\n",
       "      <td>0</td>\n",
       "      <td>0</td>\n",
       "      <td>5.52</td>\n",
       "      <td>0</td>\n",
       "    </tr>\n",
       "    <tr>\n",
       "      <th>1</th>\n",
       "      <td>1</td>\n",
       "      <td>Internet</td>\n",
       "      <td>RoundTrip</td>\n",
       "      <td>112</td>\n",
       "      <td>20</td>\n",
       "      <td>3</td>\n",
       "      <td>Sat</td>\n",
       "      <td>0</td>\n",
       "      <td>0</td>\n",
       "      <td>0</td>\n",
       "      <td>5.52</td>\n",
       "      <td>0</td>\n",
       "    </tr>\n",
       "    <tr>\n",
       "      <th>2</th>\n",
       "      <td>2</td>\n",
       "      <td>Internet</td>\n",
       "      <td>RoundTrip</td>\n",
       "      <td>243</td>\n",
       "      <td>22</td>\n",
       "      <td>17</td>\n",
       "      <td>Wed</td>\n",
       "      <td>1</td>\n",
       "      <td>1</td>\n",
       "      <td>0</td>\n",
       "      <td>5.52</td>\n",
       "      <td>0</td>\n",
       "    </tr>\n",
       "    <tr>\n",
       "      <th>3</th>\n",
       "      <td>1</td>\n",
       "      <td>Internet</td>\n",
       "      <td>RoundTrip</td>\n",
       "      <td>96</td>\n",
       "      <td>31</td>\n",
       "      <td>4</td>\n",
       "      <td>Sat</td>\n",
       "      <td>0</td>\n",
       "      <td>0</td>\n",
       "      <td>1</td>\n",
       "      <td>5.52</td>\n",
       "      <td>0</td>\n",
       "    </tr>\n",
       "    <tr>\n",
       "      <th>4</th>\n",
       "      <td>2</td>\n",
       "      <td>Internet</td>\n",
       "      <td>RoundTrip</td>\n",
       "      <td>68</td>\n",
       "      <td>22</td>\n",
       "      <td>15</td>\n",
       "      <td>Wed</td>\n",
       "      <td>1</td>\n",
       "      <td>0</td>\n",
       "      <td>1</td>\n",
       "      <td>5.52</td>\n",
       "      <td>0</td>\n",
       "    </tr>\n",
       "    <tr>\n",
       "      <th>...</th>\n",
       "      <td>...</td>\n",
       "      <td>...</td>\n",
       "      <td>...</td>\n",
       "      <td>...</td>\n",
       "      <td>...</td>\n",
       "      <td>...</td>\n",
       "      <td>...</td>\n",
       "      <td>...</td>\n",
       "      <td>...</td>\n",
       "      <td>...</td>\n",
       "      <td>...</td>\n",
       "      <td>...</td>\n",
       "    </tr>\n",
       "    <tr>\n",
       "      <th>49995</th>\n",
       "      <td>2</td>\n",
       "      <td>Internet</td>\n",
       "      <td>RoundTrip</td>\n",
       "      <td>27</td>\n",
       "      <td>6</td>\n",
       "      <td>9</td>\n",
       "      <td>Sat</td>\n",
       "      <td>1</td>\n",
       "      <td>0</td>\n",
       "      <td>1</td>\n",
       "      <td>5.62</td>\n",
       "      <td>0</td>\n",
       "    </tr>\n",
       "    <tr>\n",
       "      <th>49996</th>\n",
       "      <td>1</td>\n",
       "      <td>Internet</td>\n",
       "      <td>RoundTrip</td>\n",
       "      <td>111</td>\n",
       "      <td>6</td>\n",
       "      <td>4</td>\n",
       "      <td>Sun</td>\n",
       "      <td>0</td>\n",
       "      <td>0</td>\n",
       "      <td>0</td>\n",
       "      <td>5.62</td>\n",
       "      <td>0</td>\n",
       "    </tr>\n",
       "    <tr>\n",
       "      <th>49997</th>\n",
       "      <td>1</td>\n",
       "      <td>Internet</td>\n",
       "      <td>RoundTrip</td>\n",
       "      <td>24</td>\n",
       "      <td>6</td>\n",
       "      <td>22</td>\n",
       "      <td>Sat</td>\n",
       "      <td>0</td>\n",
       "      <td>0</td>\n",
       "      <td>1</td>\n",
       "      <td>5.62</td>\n",
       "      <td>0</td>\n",
       "    </tr>\n",
       "    <tr>\n",
       "      <th>49998</th>\n",
       "      <td>1</td>\n",
       "      <td>Internet</td>\n",
       "      <td>RoundTrip</td>\n",
       "      <td>15</td>\n",
       "      <td>6</td>\n",
       "      <td>11</td>\n",
       "      <td>Mon</td>\n",
       "      <td>1</td>\n",
       "      <td>0</td>\n",
       "      <td>1</td>\n",
       "      <td>5.62</td>\n",
       "      <td>0</td>\n",
       "    </tr>\n",
       "    <tr>\n",
       "      <th>49999</th>\n",
       "      <td>1</td>\n",
       "      <td>Internet</td>\n",
       "      <td>RoundTrip</td>\n",
       "      <td>19</td>\n",
       "      <td>6</td>\n",
       "      <td>10</td>\n",
       "      <td>Thu</td>\n",
       "      <td>0</td>\n",
       "      <td>1</td>\n",
       "      <td>0</td>\n",
       "      <td>5.62</td>\n",
       "      <td>0</td>\n",
       "    </tr>\n",
       "  </tbody>\n",
       "</table>\n",
       "<p>50000 rows × 12 columns</p>\n",
       "</div>"
      ],
      "text/plain": [
       "       num_passengers sales_channel  trip_type  purchase_lead  length_of_stay  \\\n",
       "0                   2      Internet  RoundTrip            262              19   \n",
       "1                   1      Internet  RoundTrip            112              20   \n",
       "2                   2      Internet  RoundTrip            243              22   \n",
       "3                   1      Internet  RoundTrip             96              31   \n",
       "4                   2      Internet  RoundTrip             68              22   \n",
       "...               ...           ...        ...            ...             ...   \n",
       "49995               2      Internet  RoundTrip             27               6   \n",
       "49996               1      Internet  RoundTrip            111               6   \n",
       "49997               1      Internet  RoundTrip             24               6   \n",
       "49998               1      Internet  RoundTrip             15               6   \n",
       "49999               1      Internet  RoundTrip             19               6   \n",
       "\n",
       "       flight_hour flight_day  wants_extra_baggage  wants_preferred_seat  \\\n",
       "0                7        Sat                    1                     0   \n",
       "1                3        Sat                    0                     0   \n",
       "2               17        Wed                    1                     1   \n",
       "3                4        Sat                    0                     0   \n",
       "4               15        Wed                    1                     0   \n",
       "...            ...        ...                  ...                   ...   \n",
       "49995            9        Sat                    1                     0   \n",
       "49996            4        Sun                    0                     0   \n",
       "49997           22        Sat                    0                     0   \n",
       "49998           11        Mon                    1                     0   \n",
       "49999           10        Thu                    0                     1   \n",
       "\n",
       "       wants_in_flight_meals  flight_duration  booking_complete  \n",
       "0                          0             5.52                 0  \n",
       "1                          0             5.52                 0  \n",
       "2                          0             5.52                 0  \n",
       "3                          1             5.52                 0  \n",
       "4                          1             5.52                 0  \n",
       "...                      ...              ...               ...  \n",
       "49995                      1             5.62                 0  \n",
       "49996                      0             5.62                 0  \n",
       "49997                      1             5.62                 0  \n",
       "49998                      1             5.62                 0  \n",
       "49999                      0             5.62                 0  \n",
       "\n",
       "[50000 rows x 12 columns]"
      ]
     },
     "execution_count": 2,
     "metadata": {},
     "output_type": "execute_result"
    }
   ],
   "source": [
    "cust_book = pd.read_excel(\"C:/Users/KP/OneDrive/Desktop/Customer_Bookings.xlsx\")\n",
    "cust_book"
   ]
  },
  {
   "cell_type": "code",
   "execution_count": 3,
   "id": "dcd5197a",
   "metadata": {},
   "outputs": [
    {
     "data": {
      "text/plain": [
       "num_passengers           0\n",
       "sales_channel            0\n",
       "trip_type                0\n",
       "purchase_lead            0\n",
       "length_of_stay           0\n",
       "flight_hour              0\n",
       "flight_day               0\n",
       "wants_extra_baggage      0\n",
       "wants_preferred_seat     0\n",
       "wants_in_flight_meals    0\n",
       "flight_duration          0\n",
       "booking_complete         0\n",
       "dtype: int64"
      ]
     },
     "execution_count": 3,
     "metadata": {},
     "output_type": "execute_result"
    }
   ],
   "source": [
    "cust_book.isnull().sum()"
   ]
  },
  {
   "cell_type": "code",
   "execution_count": 4,
   "id": "01946d73",
   "metadata": {},
   "outputs": [
    {
     "name": "stdout",
     "output_type": "stream",
     "text": [
      "<class 'pandas.core.frame.DataFrame'>\n",
      "RangeIndex: 50000 entries, 0 to 49999\n",
      "Data columns (total 12 columns):\n",
      " #   Column                 Non-Null Count  Dtype  \n",
      "---  ------                 --------------  -----  \n",
      " 0   num_passengers         50000 non-null  int64  \n",
      " 1   sales_channel          50000 non-null  object \n",
      " 2   trip_type              50000 non-null  object \n",
      " 3   purchase_lead          50000 non-null  int64  \n",
      " 4   length_of_stay         50000 non-null  int64  \n",
      " 5   flight_hour            50000 non-null  int64  \n",
      " 6   flight_day             50000 non-null  object \n",
      " 7   wants_extra_baggage    50000 non-null  int64  \n",
      " 8   wants_preferred_seat   50000 non-null  int64  \n",
      " 9   wants_in_flight_meals  50000 non-null  int64  \n",
      " 10  flight_duration        50000 non-null  float64\n",
      " 11  booking_complete       50000 non-null  int64  \n",
      "dtypes: float64(1), int64(8), object(3)\n",
      "memory usage: 4.6+ MB\n"
     ]
    }
   ],
   "source": [
    "cust_book.info()"
   ]
  },
  {
   "cell_type": "code",
   "execution_count": 50,
   "id": "b1747fc8",
   "metadata": {},
   "outputs": [
    {
     "data": {
      "text/plain": [
       "Internet    43880\n",
       "Mobile       5363\n",
       "Name: sales_channel, dtype: int64"
      ]
     },
     "execution_count": 50,
     "metadata": {},
     "output_type": "execute_result"
    }
   ],
   "source": [
    "pd.unique(cust_book['sales_channel'])\n",
    "booking_source = cust_book['sales_channel'].value_counts()\n",
    "booking_source"
   ]
  },
  {
   "cell_type": "code",
   "execution_count": 33,
   "id": "13cdcf16",
   "metadata": {},
   "outputs": [
    {
     "data": {
      "text/plain": [
       "1    30848\n",
       "2    12663\n",
       "3     2882\n",
       "4     1766\n",
       "5      544\n",
       "6      281\n",
       "7      107\n",
       "8       88\n",
       "9       64\n",
       "Name: num_passengers, dtype: int64"
      ]
     },
     "execution_count": 33,
     "metadata": {},
     "output_type": "execute_result"
    }
   ],
   "source": [
    "pd.unique(cust_book['num_passengers'])\n",
    "num_pass = cust_book['num_passengers'].value_counts()\n",
    "num_pass"
   ]
  },
  {
   "cell_type": "code",
   "execution_count": 34,
   "id": "bcde66a6",
   "metadata": {},
   "outputs": [
    {
     "data": {
      "text/plain": [
       "8     3122\n",
       "12    3114\n",
       "9     3095\n",
       "7     3077\n",
       "11    3064\n",
       "10    3047\n",
       "13    3044\n",
       "6     3005\n",
       "5     2814\n",
       "4     2785\n",
       "14    2781\n",
       "3     2613\n",
       "2     2595\n",
       "15    2201\n",
       "1     2070\n",
       "16    1536\n",
       "0     1500\n",
       "23     975\n",
       "17     847\n",
       "22     573\n",
       "18     430\n",
       "21     386\n",
       "19     294\n",
       "20     275\n",
       "Name: flight_hour, dtype: int64"
      ]
     },
     "execution_count": 34,
     "metadata": {},
     "output_type": "execute_result"
    }
   ],
   "source": [
    "pd.unique(cust_book['flight_hour'])\n",
    "hour = cust_book['flight_hour'].value_counts()\n",
    "hour"
   ]
  },
  {
   "cell_type": "code",
   "execution_count": 6,
   "id": "143032c6",
   "metadata": {},
   "outputs": [
    {
     "data": {
      "text/plain": [
       "RoundTrip     49497\n",
       "OneWay          387\n",
       "CircleTrip      116\n",
       "Name: trip_type, dtype: int64"
      ]
     },
     "execution_count": 6,
     "metadata": {},
     "output_type": "execute_result"
    }
   ],
   "source": [
    "pd.unique(cust_book['trip_type'])\n",
    "trip = cust_book['trip_type'].value_counts()\n",
    "trip"
   ]
  },
  {
   "cell_type": "code",
   "execution_count": 7,
   "id": "28663f3a",
   "metadata": {},
   "outputs": [
    {
     "data": {
      "text/plain": [
       "Mon    8102\n",
       "Wed    7674\n",
       "Tue    7673\n",
       "Thu    7424\n",
       "Fri    6761\n",
       "Sun    6554\n",
       "Sat    5812\n",
       "Name: flight_day, dtype: int64"
      ]
     },
     "execution_count": 7,
     "metadata": {},
     "output_type": "execute_result"
    }
   ],
   "source": [
    "pd.unique(cust_book['flight_day'])\n",
    "dayof_travel = cust_book['flight_day'].value_counts()\n",
    "dayof_travel"
   ]
  },
  {
   "cell_type": "code",
   "execution_count": 8,
   "id": "4f05090a",
   "metadata": {},
   "outputs": [
    {
     "data": {
      "text/plain": [
       "757"
      ]
     },
     "execution_count": 8,
     "metadata": {},
     "output_type": "execute_result"
    }
   ],
   "source": [
    "cust_book.duplicated().sum()"
   ]
  },
  {
   "cell_type": "code",
   "execution_count": 9,
   "id": "498fba73",
   "metadata": {},
   "outputs": [
    {
     "data": {
      "text/html": [
       "<div>\n",
       "<style scoped>\n",
       "    .dataframe tbody tr th:only-of-type {\n",
       "        vertical-align: middle;\n",
       "    }\n",
       "\n",
       "    .dataframe tbody tr th {\n",
       "        vertical-align: top;\n",
       "    }\n",
       "\n",
       "    .dataframe thead th {\n",
       "        text-align: right;\n",
       "    }\n",
       "</style>\n",
       "<table border=\"1\" class=\"dataframe\">\n",
       "  <thead>\n",
       "    <tr style=\"text-align: right;\">\n",
       "      <th></th>\n",
       "      <th>num_passengers</th>\n",
       "      <th>sales_channel</th>\n",
       "      <th>trip_type</th>\n",
       "      <th>purchase_lead</th>\n",
       "      <th>length_of_stay</th>\n",
       "      <th>flight_hour</th>\n",
       "      <th>flight_day</th>\n",
       "      <th>wants_extra_baggage</th>\n",
       "      <th>wants_preferred_seat</th>\n",
       "      <th>wants_in_flight_meals</th>\n",
       "      <th>flight_duration</th>\n",
       "      <th>booking_complete</th>\n",
       "    </tr>\n",
       "  </thead>\n",
       "  <tbody>\n",
       "    <tr>\n",
       "      <th>0</th>\n",
       "      <td>2</td>\n",
       "      <td>Internet</td>\n",
       "      <td>RoundTrip</td>\n",
       "      <td>262</td>\n",
       "      <td>19</td>\n",
       "      <td>7</td>\n",
       "      <td>Sat</td>\n",
       "      <td>1</td>\n",
       "      <td>0</td>\n",
       "      <td>0</td>\n",
       "      <td>5.52</td>\n",
       "      <td>0</td>\n",
       "    </tr>\n",
       "    <tr>\n",
       "      <th>1</th>\n",
       "      <td>1</td>\n",
       "      <td>Internet</td>\n",
       "      <td>RoundTrip</td>\n",
       "      <td>112</td>\n",
       "      <td>20</td>\n",
       "      <td>3</td>\n",
       "      <td>Sat</td>\n",
       "      <td>0</td>\n",
       "      <td>0</td>\n",
       "      <td>0</td>\n",
       "      <td>5.52</td>\n",
       "      <td>0</td>\n",
       "    </tr>\n",
       "    <tr>\n",
       "      <th>2</th>\n",
       "      <td>2</td>\n",
       "      <td>Internet</td>\n",
       "      <td>RoundTrip</td>\n",
       "      <td>243</td>\n",
       "      <td>22</td>\n",
       "      <td>17</td>\n",
       "      <td>Wed</td>\n",
       "      <td>1</td>\n",
       "      <td>1</td>\n",
       "      <td>0</td>\n",
       "      <td>5.52</td>\n",
       "      <td>0</td>\n",
       "    </tr>\n",
       "    <tr>\n",
       "      <th>3</th>\n",
       "      <td>1</td>\n",
       "      <td>Internet</td>\n",
       "      <td>RoundTrip</td>\n",
       "      <td>96</td>\n",
       "      <td>31</td>\n",
       "      <td>4</td>\n",
       "      <td>Sat</td>\n",
       "      <td>0</td>\n",
       "      <td>0</td>\n",
       "      <td>1</td>\n",
       "      <td>5.52</td>\n",
       "      <td>0</td>\n",
       "    </tr>\n",
       "    <tr>\n",
       "      <th>4</th>\n",
       "      <td>2</td>\n",
       "      <td>Internet</td>\n",
       "      <td>RoundTrip</td>\n",
       "      <td>68</td>\n",
       "      <td>22</td>\n",
       "      <td>15</td>\n",
       "      <td>Wed</td>\n",
       "      <td>1</td>\n",
       "      <td>0</td>\n",
       "      <td>1</td>\n",
       "      <td>5.52</td>\n",
       "      <td>0</td>\n",
       "    </tr>\n",
       "    <tr>\n",
       "      <th>...</th>\n",
       "      <td>...</td>\n",
       "      <td>...</td>\n",
       "      <td>...</td>\n",
       "      <td>...</td>\n",
       "      <td>...</td>\n",
       "      <td>...</td>\n",
       "      <td>...</td>\n",
       "      <td>...</td>\n",
       "      <td>...</td>\n",
       "      <td>...</td>\n",
       "      <td>...</td>\n",
       "      <td>...</td>\n",
       "    </tr>\n",
       "    <tr>\n",
       "      <th>49995</th>\n",
       "      <td>2</td>\n",
       "      <td>Internet</td>\n",
       "      <td>RoundTrip</td>\n",
       "      <td>27</td>\n",
       "      <td>6</td>\n",
       "      <td>9</td>\n",
       "      <td>Sat</td>\n",
       "      <td>1</td>\n",
       "      <td>0</td>\n",
       "      <td>1</td>\n",
       "      <td>5.62</td>\n",
       "      <td>0</td>\n",
       "    </tr>\n",
       "    <tr>\n",
       "      <th>49996</th>\n",
       "      <td>1</td>\n",
       "      <td>Internet</td>\n",
       "      <td>RoundTrip</td>\n",
       "      <td>111</td>\n",
       "      <td>6</td>\n",
       "      <td>4</td>\n",
       "      <td>Sun</td>\n",
       "      <td>0</td>\n",
       "      <td>0</td>\n",
       "      <td>0</td>\n",
       "      <td>5.62</td>\n",
       "      <td>0</td>\n",
       "    </tr>\n",
       "    <tr>\n",
       "      <th>49997</th>\n",
       "      <td>1</td>\n",
       "      <td>Internet</td>\n",
       "      <td>RoundTrip</td>\n",
       "      <td>24</td>\n",
       "      <td>6</td>\n",
       "      <td>22</td>\n",
       "      <td>Sat</td>\n",
       "      <td>0</td>\n",
       "      <td>0</td>\n",
       "      <td>1</td>\n",
       "      <td>5.62</td>\n",
       "      <td>0</td>\n",
       "    </tr>\n",
       "    <tr>\n",
       "      <th>49998</th>\n",
       "      <td>1</td>\n",
       "      <td>Internet</td>\n",
       "      <td>RoundTrip</td>\n",
       "      <td>15</td>\n",
       "      <td>6</td>\n",
       "      <td>11</td>\n",
       "      <td>Mon</td>\n",
       "      <td>1</td>\n",
       "      <td>0</td>\n",
       "      <td>1</td>\n",
       "      <td>5.62</td>\n",
       "      <td>0</td>\n",
       "    </tr>\n",
       "    <tr>\n",
       "      <th>49999</th>\n",
       "      <td>1</td>\n",
       "      <td>Internet</td>\n",
       "      <td>RoundTrip</td>\n",
       "      <td>19</td>\n",
       "      <td>6</td>\n",
       "      <td>10</td>\n",
       "      <td>Thu</td>\n",
       "      <td>0</td>\n",
       "      <td>1</td>\n",
       "      <td>0</td>\n",
       "      <td>5.62</td>\n",
       "      <td>0</td>\n",
       "    </tr>\n",
       "  </tbody>\n",
       "</table>\n",
       "<p>49243 rows × 12 columns</p>\n",
       "</div>"
      ],
      "text/plain": [
       "       num_passengers sales_channel  trip_type  purchase_lead  length_of_stay  \\\n",
       "0                   2      Internet  RoundTrip            262              19   \n",
       "1                   1      Internet  RoundTrip            112              20   \n",
       "2                   2      Internet  RoundTrip            243              22   \n",
       "3                   1      Internet  RoundTrip             96              31   \n",
       "4                   2      Internet  RoundTrip             68              22   \n",
       "...               ...           ...        ...            ...             ...   \n",
       "49995               2      Internet  RoundTrip             27               6   \n",
       "49996               1      Internet  RoundTrip            111               6   \n",
       "49997               1      Internet  RoundTrip             24               6   \n",
       "49998               1      Internet  RoundTrip             15               6   \n",
       "49999               1      Internet  RoundTrip             19               6   \n",
       "\n",
       "       flight_hour flight_day  wants_extra_baggage  wants_preferred_seat  \\\n",
       "0                7        Sat                    1                     0   \n",
       "1                3        Sat                    0                     0   \n",
       "2               17        Wed                    1                     1   \n",
       "3                4        Sat                    0                     0   \n",
       "4               15        Wed                    1                     0   \n",
       "...            ...        ...                  ...                   ...   \n",
       "49995            9        Sat                    1                     0   \n",
       "49996            4        Sun                    0                     0   \n",
       "49997           22        Sat                    0                     0   \n",
       "49998           11        Mon                    1                     0   \n",
       "49999           10        Thu                    0                     1   \n",
       "\n",
       "       wants_in_flight_meals  flight_duration  booking_complete  \n",
       "0                          0             5.52                 0  \n",
       "1                          0             5.52                 0  \n",
       "2                          0             5.52                 0  \n",
       "3                          1             5.52                 0  \n",
       "4                          1             5.52                 0  \n",
       "...                      ...              ...               ...  \n",
       "49995                      1             5.62                 0  \n",
       "49996                      0             5.62                 0  \n",
       "49997                      1             5.62                 0  \n",
       "49998                      1             5.62                 0  \n",
       "49999                      0             5.62                 0  \n",
       "\n",
       "[49243 rows x 12 columns]"
      ]
     },
     "execution_count": 9,
     "metadata": {},
     "output_type": "execute_result"
    }
   ],
   "source": [
    "cust_book= cust_book.drop_duplicates(keep='first')\n",
    "cust_book\n"
   ]
  },
  {
   "cell_type": "code",
   "execution_count": 10,
   "id": "6e7b5507",
   "metadata": {},
   "outputs": [
    {
     "data": {
      "text/plain": [
       "0"
      ]
     },
     "execution_count": 10,
     "metadata": {},
     "output_type": "execute_result"
    }
   ],
   "source": [
    "cust_book.duplicated().sum()"
   ]
  },
  {
   "cell_type": "code",
   "execution_count": 11,
   "id": "1f93c289",
   "metadata": {},
   "outputs": [],
   "source": [
    "mapping = {\n",
    "    \"Mon\": 1,\n",
    "    \"Tue\": 2,\n",
    "    \"Wed\": 3,\n",
    "    \"Thu\": 4,\n",
    "    \"Fri\": 5,\n",
    "    \"Sat\": 6,\n",
    "    \"Sun\": 7,\n",
    "}\n",
    "\n",
    "cust_book[\"flight_day\"] = cust_book[\"flight_day\"].map(mapping)"
   ]
  },
  {
   "cell_type": "code",
   "execution_count": 12,
   "id": "61b566a6",
   "metadata": {},
   "outputs": [
    {
     "data": {
      "text/html": [
       "<div>\n",
       "<style scoped>\n",
       "    .dataframe tbody tr th:only-of-type {\n",
       "        vertical-align: middle;\n",
       "    }\n",
       "\n",
       "    .dataframe tbody tr th {\n",
       "        vertical-align: top;\n",
       "    }\n",
       "\n",
       "    .dataframe thead th {\n",
       "        text-align: right;\n",
       "    }\n",
       "</style>\n",
       "<table border=\"1\" class=\"dataframe\">\n",
       "  <thead>\n",
       "    <tr style=\"text-align: right;\">\n",
       "      <th></th>\n",
       "      <th>num_passengers</th>\n",
       "      <th>purchase_lead</th>\n",
       "      <th>length_of_stay</th>\n",
       "      <th>flight_hour</th>\n",
       "      <th>flight_day</th>\n",
       "      <th>wants_extra_baggage</th>\n",
       "      <th>wants_preferred_seat</th>\n",
       "      <th>wants_in_flight_meals</th>\n",
       "      <th>flight_duration</th>\n",
       "      <th>booking_complete</th>\n",
       "    </tr>\n",
       "  </thead>\n",
       "  <tbody>\n",
       "    <tr>\n",
       "      <th>count</th>\n",
       "      <td>49243.000000</td>\n",
       "      <td>49243.000000</td>\n",
       "      <td>49243.000000</td>\n",
       "      <td>49243.000000</td>\n",
       "      <td>49243.000000</td>\n",
       "      <td>49243.000000</td>\n",
       "      <td>49243.000000</td>\n",
       "      <td>49243.000000</td>\n",
       "      <td>49243.000000</td>\n",
       "      <td>49243.000000</td>\n",
       "    </tr>\n",
       "    <tr>\n",
       "      <th>mean</th>\n",
       "      <td>1.590460</td>\n",
       "      <td>84.744268</td>\n",
       "      <td>23.061694</td>\n",
       "      <td>9.071543</td>\n",
       "      <td>3.813517</td>\n",
       "      <td>0.668318</td>\n",
       "      <td>0.295758</td>\n",
       "      <td>0.426822</td>\n",
       "      <td>7.279929</td>\n",
       "      <td>0.150072</td>\n",
       "    </tr>\n",
       "    <tr>\n",
       "      <th>std</th>\n",
       "      <td>1.016754</td>\n",
       "      <td>90.420390</td>\n",
       "      <td>33.842297</td>\n",
       "      <td>5.414028</td>\n",
       "      <td>1.992067</td>\n",
       "      <td>0.470822</td>\n",
       "      <td>0.456387</td>\n",
       "      <td>0.494621</td>\n",
       "      <td>1.496374</td>\n",
       "      <td>0.357146</td>\n",
       "    </tr>\n",
       "    <tr>\n",
       "      <th>min</th>\n",
       "      <td>1.000000</td>\n",
       "      <td>0.000000</td>\n",
       "      <td>0.000000</td>\n",
       "      <td>0.000000</td>\n",
       "      <td>1.000000</td>\n",
       "      <td>0.000000</td>\n",
       "      <td>0.000000</td>\n",
       "      <td>0.000000</td>\n",
       "      <td>4.670000</td>\n",
       "      <td>0.000000</td>\n",
       "    </tr>\n",
       "    <tr>\n",
       "      <th>25%</th>\n",
       "      <td>1.000000</td>\n",
       "      <td>21.000000</td>\n",
       "      <td>5.000000</td>\n",
       "      <td>5.000000</td>\n",
       "      <td>2.000000</td>\n",
       "      <td>0.000000</td>\n",
       "      <td>0.000000</td>\n",
       "      <td>0.000000</td>\n",
       "      <td>5.620000</td>\n",
       "      <td>0.000000</td>\n",
       "    </tr>\n",
       "    <tr>\n",
       "      <th>50%</th>\n",
       "      <td>1.000000</td>\n",
       "      <td>51.000000</td>\n",
       "      <td>17.000000</td>\n",
       "      <td>9.000000</td>\n",
       "      <td>4.000000</td>\n",
       "      <td>1.000000</td>\n",
       "      <td>0.000000</td>\n",
       "      <td>0.000000</td>\n",
       "      <td>7.570000</td>\n",
       "      <td>0.000000</td>\n",
       "    </tr>\n",
       "    <tr>\n",
       "      <th>75%</th>\n",
       "      <td>2.000000</td>\n",
       "      <td>115.000000</td>\n",
       "      <td>28.000000</td>\n",
       "      <td>13.000000</td>\n",
       "      <td>5.000000</td>\n",
       "      <td>1.000000</td>\n",
       "      <td>1.000000</td>\n",
       "      <td>1.000000</td>\n",
       "      <td>8.830000</td>\n",
       "      <td>0.000000</td>\n",
       "    </tr>\n",
       "    <tr>\n",
       "      <th>max</th>\n",
       "      <td>9.000000</td>\n",
       "      <td>867.000000</td>\n",
       "      <td>778.000000</td>\n",
       "      <td>23.000000</td>\n",
       "      <td>7.000000</td>\n",
       "      <td>1.000000</td>\n",
       "      <td>1.000000</td>\n",
       "      <td>1.000000</td>\n",
       "      <td>9.500000</td>\n",
       "      <td>1.000000</td>\n",
       "    </tr>\n",
       "  </tbody>\n",
       "</table>\n",
       "</div>"
      ],
      "text/plain": [
       "       num_passengers  purchase_lead  length_of_stay   flight_hour  \\\n",
       "count    49243.000000   49243.000000    49243.000000  49243.000000   \n",
       "mean         1.590460      84.744268       23.061694      9.071543   \n",
       "std          1.016754      90.420390       33.842297      5.414028   \n",
       "min          1.000000       0.000000        0.000000      0.000000   \n",
       "25%          1.000000      21.000000        5.000000      5.000000   \n",
       "50%          1.000000      51.000000       17.000000      9.000000   \n",
       "75%          2.000000     115.000000       28.000000     13.000000   \n",
       "max          9.000000     867.000000      778.000000     23.000000   \n",
       "\n",
       "         flight_day  wants_extra_baggage  wants_preferred_seat  \\\n",
       "count  49243.000000         49243.000000          49243.000000   \n",
       "mean       3.813517             0.668318              0.295758   \n",
       "std        1.992067             0.470822              0.456387   \n",
       "min        1.000000             0.000000              0.000000   \n",
       "25%        2.000000             0.000000              0.000000   \n",
       "50%        4.000000             1.000000              0.000000   \n",
       "75%        5.000000             1.000000              1.000000   \n",
       "max        7.000000             1.000000              1.000000   \n",
       "\n",
       "       wants_in_flight_meals  flight_duration  booking_complete  \n",
       "count           49243.000000     49243.000000      49243.000000  \n",
       "mean                0.426822         7.279929          0.150072  \n",
       "std                 0.494621         1.496374          0.357146  \n",
       "min                 0.000000         4.670000          0.000000  \n",
       "25%                 0.000000         5.620000          0.000000  \n",
       "50%                 0.000000         7.570000          0.000000  \n",
       "75%                 1.000000         8.830000          0.000000  \n",
       "max                 1.000000         9.500000          1.000000  "
      ]
     },
     "execution_count": 12,
     "metadata": {},
     "output_type": "execute_result"
    }
   ],
   "source": [
    "cust_book.describe()"
   ]
  },
  {
   "cell_type": "code",
   "execution_count": 13,
   "id": "2a04628d",
   "metadata": {},
   "outputs": [
    {
     "data": {
      "text/html": [
       "<div>\n",
       "<style scoped>\n",
       "    .dataframe tbody tr th:only-of-type {\n",
       "        vertical-align: middle;\n",
       "    }\n",
       "\n",
       "    .dataframe tbody tr th {\n",
       "        vertical-align: top;\n",
       "    }\n",
       "\n",
       "    .dataframe thead th {\n",
       "        text-align: right;\n",
       "    }\n",
       "</style>\n",
       "<table border=\"1\" class=\"dataframe\">\n",
       "  <thead>\n",
       "    <tr style=\"text-align: right;\">\n",
       "      <th></th>\n",
       "      <th>num_passengers</th>\n",
       "      <th>purchase_lead</th>\n",
       "      <th>length_of_stay</th>\n",
       "      <th>flight_hour</th>\n",
       "      <th>flight_day</th>\n",
       "      <th>wants_extra_baggage</th>\n",
       "      <th>wants_preferred_seat</th>\n",
       "      <th>wants_in_flight_meals</th>\n",
       "      <th>flight_duration</th>\n",
       "      <th>booking_complete</th>\n",
       "    </tr>\n",
       "  </thead>\n",
       "  <tbody>\n",
       "    <tr>\n",
       "      <th>num_passengers</th>\n",
       "      <td>1.000000</td>\n",
       "      <td>0.214953</td>\n",
       "      <td>-0.115447</td>\n",
       "      <td>0.016353</td>\n",
       "      <td>0.014691</td>\n",
       "      <td>0.120605</td>\n",
       "      <td>0.029433</td>\n",
       "      <td>0.022117</td>\n",
       "      <td>-0.061896</td>\n",
       "      <td>0.023964</td>\n",
       "    </tr>\n",
       "    <tr>\n",
       "      <th>purchase_lead</th>\n",
       "      <td>0.214953</td>\n",
       "      <td>1.000000</td>\n",
       "      <td>-0.076824</td>\n",
       "      <td>0.035104</td>\n",
       "      <td>0.036388</td>\n",
       "      <td>-0.021629</td>\n",
       "      <td>-0.004543</td>\n",
       "      <td>-0.022699</td>\n",
       "      <td>0.068049</td>\n",
       "      <td>-0.022264</td>\n",
       "    </tr>\n",
       "    <tr>\n",
       "      <th>length_of_stay</th>\n",
       "      <td>-0.115447</td>\n",
       "      <td>-0.076824</td>\n",
       "      <td>1.000000</td>\n",
       "      <td>-0.025503</td>\n",
       "      <td>0.000778</td>\n",
       "      <td>0.177470</td>\n",
       "      <td>0.031116</td>\n",
       "      <td>0.098680</td>\n",
       "      <td>0.140427</td>\n",
       "      <td>-0.042154</td>\n",
       "    </tr>\n",
       "    <tr>\n",
       "      <th>flight_hour</th>\n",
       "      <td>0.016353</td>\n",
       "      <td>0.035104</td>\n",
       "      <td>-0.025503</td>\n",
       "      <td>1.000000</td>\n",
       "      <td>0.024273</td>\n",
       "      <td>-0.010903</td>\n",
       "      <td>0.012238</td>\n",
       "      <td>0.011878</td>\n",
       "      <td>-0.003175</td>\n",
       "      <td>0.006557</td>\n",
       "    </tr>\n",
       "    <tr>\n",
       "      <th>flight_day</th>\n",
       "      <td>0.014691</td>\n",
       "      <td>0.036388</td>\n",
       "      <td>0.000778</td>\n",
       "      <td>0.024273</td>\n",
       "      <td>1.000000</td>\n",
       "      <td>-0.002595</td>\n",
       "      <td>0.005695</td>\n",
       "      <td>0.007863</td>\n",
       "      <td>0.019289</td>\n",
       "      <td>-0.006962</td>\n",
       "    </tr>\n",
       "    <tr>\n",
       "      <th>wants_extra_baggage</th>\n",
       "      <td>0.120605</td>\n",
       "      <td>-0.021629</td>\n",
       "      <td>0.177470</td>\n",
       "      <td>-0.010903</td>\n",
       "      <td>-0.002595</td>\n",
       "      <td>1.000000</td>\n",
       "      <td>0.208262</td>\n",
       "      <td>0.216726</td>\n",
       "      <td>0.057689</td>\n",
       "      <td>0.068372</td>\n",
       "    </tr>\n",
       "    <tr>\n",
       "      <th>wants_preferred_seat</th>\n",
       "      <td>0.029433</td>\n",
       "      <td>-0.004543</td>\n",
       "      <td>0.031116</td>\n",
       "      <td>0.012238</td>\n",
       "      <td>0.005695</td>\n",
       "      <td>0.208262</td>\n",
       "      <td>1.000000</td>\n",
       "      <td>0.314935</td>\n",
       "      <td>0.100594</td>\n",
       "      <td>0.050129</td>\n",
       "    </tr>\n",
       "    <tr>\n",
       "      <th>wants_in_flight_meals</th>\n",
       "      <td>0.022117</td>\n",
       "      <td>-0.022699</td>\n",
       "      <td>0.098680</td>\n",
       "      <td>0.011878</td>\n",
       "      <td>0.007863</td>\n",
       "      <td>0.216726</td>\n",
       "      <td>0.314935</td>\n",
       "      <td>1.000000</td>\n",
       "      <td>0.156285</td>\n",
       "      <td>0.026186</td>\n",
       "    </tr>\n",
       "    <tr>\n",
       "      <th>flight_duration</th>\n",
       "      <td>-0.061896</td>\n",
       "      <td>0.068049</td>\n",
       "      <td>0.140427</td>\n",
       "      <td>-0.003175</td>\n",
       "      <td>0.019289</td>\n",
       "      <td>0.057689</td>\n",
       "      <td>0.100594</td>\n",
       "      <td>0.156285</td>\n",
       "      <td>1.000000</td>\n",
       "      <td>-0.106546</td>\n",
       "    </tr>\n",
       "    <tr>\n",
       "      <th>booking_complete</th>\n",
       "      <td>0.023964</td>\n",
       "      <td>-0.022264</td>\n",
       "      <td>-0.042154</td>\n",
       "      <td>0.006557</td>\n",
       "      <td>-0.006962</td>\n",
       "      <td>0.068372</td>\n",
       "      <td>0.050129</td>\n",
       "      <td>0.026186</td>\n",
       "      <td>-0.106546</td>\n",
       "      <td>1.000000</td>\n",
       "    </tr>\n",
       "  </tbody>\n",
       "</table>\n",
       "</div>"
      ],
      "text/plain": [
       "                       num_passengers  purchase_lead  length_of_stay  \\\n",
       "num_passengers               1.000000       0.214953       -0.115447   \n",
       "purchase_lead                0.214953       1.000000       -0.076824   \n",
       "length_of_stay              -0.115447      -0.076824        1.000000   \n",
       "flight_hour                  0.016353       0.035104       -0.025503   \n",
       "flight_day                   0.014691       0.036388        0.000778   \n",
       "wants_extra_baggage          0.120605      -0.021629        0.177470   \n",
       "wants_preferred_seat         0.029433      -0.004543        0.031116   \n",
       "wants_in_flight_meals        0.022117      -0.022699        0.098680   \n",
       "flight_duration             -0.061896       0.068049        0.140427   \n",
       "booking_complete             0.023964      -0.022264       -0.042154   \n",
       "\n",
       "                       flight_hour  flight_day  wants_extra_baggage  \\\n",
       "num_passengers            0.016353    0.014691             0.120605   \n",
       "purchase_lead             0.035104    0.036388            -0.021629   \n",
       "length_of_stay           -0.025503    0.000778             0.177470   \n",
       "flight_hour               1.000000    0.024273            -0.010903   \n",
       "flight_day                0.024273    1.000000            -0.002595   \n",
       "wants_extra_baggage      -0.010903   -0.002595             1.000000   \n",
       "wants_preferred_seat      0.012238    0.005695             0.208262   \n",
       "wants_in_flight_meals     0.011878    0.007863             0.216726   \n",
       "flight_duration          -0.003175    0.019289             0.057689   \n",
       "booking_complete          0.006557   -0.006962             0.068372   \n",
       "\n",
       "                       wants_preferred_seat  wants_in_flight_meals  \\\n",
       "num_passengers                     0.029433               0.022117   \n",
       "purchase_lead                     -0.004543              -0.022699   \n",
       "length_of_stay                     0.031116               0.098680   \n",
       "flight_hour                        0.012238               0.011878   \n",
       "flight_day                         0.005695               0.007863   \n",
       "wants_extra_baggage                0.208262               0.216726   \n",
       "wants_preferred_seat               1.000000               0.314935   \n",
       "wants_in_flight_meals              0.314935               1.000000   \n",
       "flight_duration                    0.100594               0.156285   \n",
       "booking_complete                   0.050129               0.026186   \n",
       "\n",
       "                       flight_duration  booking_complete  \n",
       "num_passengers               -0.061896          0.023964  \n",
       "purchase_lead                 0.068049         -0.022264  \n",
       "length_of_stay                0.140427         -0.042154  \n",
       "flight_hour                  -0.003175          0.006557  \n",
       "flight_day                    0.019289         -0.006962  \n",
       "wants_extra_baggage           0.057689          0.068372  \n",
       "wants_preferred_seat          0.100594          0.050129  \n",
       "wants_in_flight_meals         0.156285          0.026186  \n",
       "flight_duration               1.000000         -0.106546  \n",
       "booking_complete             -0.106546          1.000000  "
      ]
     },
     "execution_count": 13,
     "metadata": {},
     "output_type": "execute_result"
    }
   ],
   "source": [
    "cust_book.corr()"
   ]
  },
  {
   "cell_type": "code",
   "execution_count": 14,
   "id": "59fc0387",
   "metadata": {},
   "outputs": [
    {
     "data": {
      "text/plain": [
       "Text(0.5, 1.0, 'Triangle Correlation Heatmap')"
      ]
     },
     "execution_count": 14,
     "metadata": {},
     "output_type": "execute_result"
    },
    {
     "data": {
      "image/png": "[encoded data removed]",
      "text/plain": [
       "<Figure size 1296x864 with 2 Axes>"
      ]
     },
     "metadata": {
      "needs_background": "light"
     },
     "output_type": "display_data"
    }
   ],
   "source": [
    "#We can investigate the correlation between the different variables. \n",
    "#The closer the value is to 1, the stronger the correlation between the two variables, but the closer the value is to -1, the stronger the negative correlation is.\n",
    "\n",
    "\n",
    "plt.figure(figsize=(18, 12))\n",
    "# define the mask to set the values in the upper triangle to True\n",
    "mask = np.triu(np.ones_like(cust_book.corr(), dtype=np.bool))\n",
    "heatmap = sns.heatmap(cust_book.corr(), mask=mask, vmin=-1, vmax=1, annot=True, cmap='PiYG')\n",
    "heatmap.set_title('Triangle Correlation Heatmap', fontdict={'fontsize':18}, pad=16)\n"
   ]
  },
  {
   "cell_type": "code",
   "execution_count": 15,
   "id": "47a3c005",
   "metadata": {},
   "outputs": [
    {
     "data": {
      "text/plain": [
       "0    41853\n",
       "1     7390\n",
       "Name: booking_complete, dtype: int64"
      ]
     },
     "execution_count": 15,
     "metadata": {},
     "output_type": "execute_result"
    }
   ],
   "source": [
    "cust_book[\"booking_complete\"].value_counts()\n"
   ]
  },
  {
   "cell_type": "code",
   "execution_count": 16,
   "id": "a90f5aac",
   "metadata": {},
   "outputs": [
    {
     "data": {
      "image/png": "[encoded data removed]",
      "text/plain": [
       "<Figure size 288x432 with 2 Axes>"
      ]
     },
     "metadata": {
      "needs_background": "light"
     },
     "output_type": "display_data"
    }
   ],
   "source": [
    "plt.figure(figsize=(4, 6))\n",
    "heatmap = sns.heatmap(cust_book.corr()[['booking_complete']].sort_values(by='booking_complete', ascending=False), vmin=-1, vmax=1, annot=True, cmap='PiYG')\n",
    "heatmap.set_title('Features Correlating with Booking Completion', fontdict={'fontsize':14}, pad=16);\n"
   ]
  },
  {
   "cell_type": "code",
   "execution_count": 17,
   "id": "efdb9e68",
   "metadata": {},
   "outputs": [],
   "source": [
    "x = cust_book.drop(['booking_complete','sales_channel','trip_type'], axis=1)\n",
    "y = cust_book['booking_complete']\n",
    "\n",
    "x_train, x_test, y_train, y_test = train_test_split(x, y, test_size=0.20, shuffle=True)\n"
   ]
  },
  {
   "cell_type": "code",
   "execution_count": 18,
   "id": "ff4ab034",
   "metadata": {},
   "outputs": [],
   "source": [
    "from sklearn.datasets import make_classification\n",
    "from sklearn.model_selection import cross_val_score\n",
    "from sklearn.model_selection import RepeatedStratifiedKFold\n"
   ]
  },
  {
   "cell_type": "code",
   "execution_count": 19,
   "id": "d9b20257",
   "metadata": {},
   "outputs": [],
   "source": [
    "from sklearn.ensemble import RandomForestClassifier\n",
    "from sklearn.metrics import confusion_matrix\n"
   ]
  },
  {
   "cell_type": "code",
   "execution_count": 20,
   "id": "2fd275a4",
   "metadata": {},
   "outputs": [
    {
     "name": "stdout",
     "output_type": "stream",
     "text": [
      "Accuracy for 10 random tress:  0.843943547568281\n"
     ]
    }
   ],
   "source": [
    "from sklearn.ensemble import RandomForestClassifier\n",
    "from sklearn.metrics import mean_absolute_error\n",
    "\n",
    "forest_model = RandomForestClassifier(n_estimators=100, random_state=1)\n",
    "forest_model.fit(x_train, y_train)\n",
    "forest_model = RandomForestClassifier()\n",
    "forest_model.fit(x_train, y_train)\n",
    "\n",
    "rf_preds = forest_model.predict(x_test)\n",
    "print('Accuracy for 10 random tress: ', forest_model.score(x_test, y_test))\n"
   ]
  },
  {
   "cell_type": "code",
   "execution_count": 21,
   "id": "7f4165fa",
   "metadata": {},
   "outputs": [
    {
     "name": "stdout",
     "output_type": "stream",
     "text": [
      "Accuracy for 20 random tress:  0.8406944867499239\n"
     ]
    }
   ],
   "source": [
    "forest_model = RandomForestClassifier(n_estimators=20)\n",
    "forest_model.fit(x_train, y_train)\n",
    "print('Accuracy for 20 random tress: ', forest_model.score(x_test, y_test))\n"
   ]
  },
  {
   "cell_type": "code",
   "execution_count": 22,
   "id": "9bc32e90",
   "metadata": {},
   "outputs": [
    {
     "name": "stdout",
     "output_type": "stream",
     "text": [
      "Accuracy for 5 random tress:  0.8195755914306021\n"
     ]
    }
   ],
   "source": [
    "forest_model = RandomForestClassifier(n_estimators=5)\n",
    "forest_model.fit(x_train, y_train)\n",
    "print('Accuracy for 5 random tress: ', forest_model.score(x_test, y_test))\n"
   ]
  },
  {
   "cell_type": "code",
   "execution_count": 23,
   "id": "8e1f2dcf",
   "metadata": {},
   "outputs": [
    {
     "name": "stdout",
     "output_type": "stream",
     "text": [
      "0.8434358818154127\n"
     ]
    },
    {
     "data": {
      "text/plain": [
       "array([[8248,  126],\n",
       "       [1416,   59]], dtype=int64)"
      ]
     },
     "execution_count": 23,
     "metadata": {},
     "output_type": "execute_result"
    }
   ],
   "source": [
    "forest_model = RandomForestClassifier()\n",
    "forest_model.fit(x_train, y_train)\n",
    "print(forest_model.score(x_test, y_test))\n",
    "\n",
    "y_predicted = forest_model.predict(x_test)\n",
    "\n",
    "cm = confusion_matrix(y_test, y_predicted)\n",
    "cm\n"
   ]
  },
  {
   "cell_type": "code",
   "execution_count": 24,
   "id": "aefa45f5",
   "metadata": {},
   "outputs": [
    {
     "name": "stdout",
     "output_type": "stream",
     "text": [
      "Accuracy:  0.8434358818154127\n",
      "Recall:  0.04\n",
      "Precision:  0.31891891891891894\n",
      "              precision    recall  f1-score   support\n",
      "\n",
      "           0       0.85      0.98      0.91      8374\n",
      "           1       0.32      0.04      0.07      1475\n",
      "\n",
      "    accuracy                           0.84      9849\n",
      "   macro avg       0.59      0.51      0.49      9849\n",
      "weighted avg       0.77      0.84      0.79      9849\n",
      "\n"
     ]
    }
   ],
   "source": [
    "from sklearn import metrics\n",
    "from sklearn.metrics import classification_report\n",
    "\n",
    "print('Accuracy: ', metrics.accuracy_score(y_test, y_predicted))\n",
    "print('Recall: ', metrics.recall_score(y_test, y_predicted, zero_division=1))\n",
    "print('Precision: ', metrics.precision_score(y_test, y_predicted, zero_division=1))\n",
    "print(metrics.classification_report(y_test, y_predicted, zero_division=1))\n"
   ]
  },
  {
   "cell_type": "code",
   "execution_count": 25,
   "id": "324c8408",
   "metadata": {},
   "outputs": [
    {
     "name": "stdout",
     "output_type": "stream",
     "text": [
      "Feature Importances:  [0.05949897 0.30272671 0.16234796 0.19188369 0.11598754 0.01260922\n",
      " 0.016911   0.02266578 0.11536912]\n"
     ]
    }
   ],
   "source": [
    "importances = forest_model.feature_importances_\n",
    "print(\"Feature Importances: \", importances)\n"
   ]
  },
  {
   "cell_type": "code",
   "execution_count": 26,
   "id": "64f198c9",
   "metadata": {},
   "outputs": [
    {
     "name": "stdout",
     "output_type": "stream",
     "text": [
      "Sorted Feature Importances:\n",
      "purchase_lead: 0.303\n",
      "flight_hour: 0.192\n",
      "length_of_stay: 0.162\n",
      "flight_day: 0.116\n",
      "flight_duration: 0.115\n",
      "num_passengers: 0.059\n",
      "wants_in_flight_meals: 0.023\n",
      "wants_preferred_seat: 0.017\n",
      "wants_extra_baggage: 0.013\n"
     ]
    }
   ],
   "source": [
    "importances_sorted = sorted(zip(importances, x), reverse=True)\n",
    "print(\"Sorted Feature Importances:\")\n",
    "for importance, feature_name in importances_sorted:\n",
    "    print(f\"{feature_name}: {importance:.3f}\")\n"
   ]
  },
  {
   "cell_type": "code",
   "execution_count": 52,
   "id": "f32616f4",
   "metadata": {},
   "outputs": [
    {
     "data": {
      "text/plain": [
       "Text(0, 0.5, 'FEATURE NAMES')"
      ]
     },
     "execution_count": 52,
     "metadata": {},
     "output_type": "execute_result"
    },
    {
     "data": {
      "image/png": "[encoded data removed]",
      "text/plain": [
       "<Figure size 720x576 with 1 Axes>"
      ]
     },
     "metadata": {
      "needs_background": "light"
     },
     "output_type": "display_data"
    }
   ],
   "source": [
    "plt.figure(figsize=(10,8))\n",
    "(pd.Series(forest_model.feature_importances_, index=x.columns)\n",
    "   .nlargest(20)\n",
    "   .plot(kind='barh', color='darkred')) \n",
    "plt.title('FEATURE IMPORTANCE')\n",
    "plt.ylabel('FEATURE NAMES')\n"
   ]
  },
  {
   "cell_type": "code",
   "execution_count": null,
   "id": "6b2a9ca8",
   "metadata": {},
   "outputs": [],
   "source": []
  }
 ],
 "metadata": {
  "kernelspec": {
   "display_name": "Python 3 (ipykernel)",
   "language": "python",
   "name": "python3"
  },
  "language_info": {
   "codemirror_mode": {
    "name": "ipython",
    "version": 3
   },
   "file_extension": ".py",
   "mimetype": "text/x-python",
   "name": "python",
   "nbconvert_exporter": "python",
   "pygments_lexer": "ipython3",
   "version": "3.9.7"
  }
 },
 "nbformat": 4,
 "nbformat_minor": 5
}
